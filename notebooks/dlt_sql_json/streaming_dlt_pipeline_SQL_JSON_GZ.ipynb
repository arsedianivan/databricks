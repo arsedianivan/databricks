{
 "cells": [
  {
   "cell_type": "code",
   "execution_count": 0,
   "metadata": {
    "application/vnd.databricks.v1+cell": {
     "cellMetadata": {
      "byteLimit": 2048000,
      "rowLimit": 10000
     },
     "inputWidgets": {},
     "nuid": "ffe661e0-52e5-4bbb-9184-78a2ddf883a0",
     "showTitle": false,
     "tableResultSettingsMap": {},
     "title": ""
    }
   },
   "outputs": [],
   "source": [
    "-- This reads the raw IoT device data as it arrives\n",
    "CREATE OR REFRESH STREAMING LIVE TABLE fitness_devices_bronze\n",
    "COMMENT \"Raw IoT fitness device data from JSON files\"\n",
    "AS SELECT \n",
    "  *,\n",
    "  current_timestamp() as ingestion_time,\n",
    "  _metadata.file_path as source_file\n",
    "FROM cloud_files(\n",
    "  \"/databricks-datasets/iot-stream/data-device/*.json\",\n",
    "  \"json\",\n",
    "  map(\"cloudFiles.inferColumnTypes\", \"true\")\n",
    ");"
   ]
  },
  {
   "cell_type": "code",
   "execution_count": 0,
   "metadata": {
    "application/vnd.databricks.v1+cell": {
     "cellMetadata": {
      "byteLimit": 2048000,
      "rowLimit": 10000
     },
     "inputWidgets": {},
     "nuid": "44e3b9f0-71c7-4807-865e-17c24f377bbd",
     "showTitle": false,
     "tableResultSettingsMap": {},
     "title": ""
    }
   },
   "outputs": [],
   "source": [
    "-- This creates a cleaned, validated version of the data\n",
    "CREATE OR REFRESH STREAMING LIVE TABLE fitness_devices_silver\n",
    "(\n",
    "  -- Data quality rules: drop bad records\n",
    "  CONSTRAINT valid_steps EXPECT (num_steps >= 0) ON VIOLATION DROP ROW,\n",
    "  CONSTRAINT valid_calories EXPECT (calories_burnt >= 0) ON VIOLATION DROP ROW,\n",
    "  CONSTRAINT valid_miles EXPECT (miles_walked >= 0) ON VIOLATION DROP ROW,\n",
    "  CONSTRAINT reasonable_steps EXPECT (num_steps < 100000) ON VIOLATION DROP ROW\n",
    ")\n",
    "COMMENT \"Cleaned fitness data with quality checks\"\n",
    "AS SELECT\n",
    "  device_id,\n",
    "  user_id,\n",
    "  num_steps,\n",
    "  miles_walked,\n",
    "  calories_burnt,\n",
    "  -- Convert timestamp string to proper timestamp\n",
    "  to_timestamp(timestamp) as activity_timestamp,\n",
    "  -- Extract useful time parts\n",
    "  date(to_timestamp(timestamp)) as activity_date,\n",
    "  hour(to_timestamp(timestamp)) as activity_hour,\n",
    "  -- Calculate steps per mile (if miles > 0)\n",
    "  CASE \n",
    "    WHEN miles_walked > 0 THEN num_steps / miles_walked \n",
    "    ELSE 0 \n",
    "  END as steps_per_mile,\n",
    "  -- Categorize activity level\n",
    "  CASE\n",
    "    WHEN num_steps < 1000 THEN 'Low'\n",
    "    WHEN num_steps BETWEEN 1000 AND 5000 THEN 'Moderate'\n",
    "    WHEN num_steps BETWEEN 5001 AND 10000 THEN 'Active'\n",
    "    ELSE 'Very Active'\n",
    "  END as activity_level\n",
    "FROM STREAM(LIVE.fitness_devices_bronze)\n",
    "WHERE device_id IS NOT NULL \n",
    "  AND user_id IS NOT NULL;"
   ]
  },
  {
   "cell_type": "code",
   "execution_count": 0,
   "metadata": {
    "application/vnd.databricks.v1+cell": {
     "cellMetadata": {
      "byteLimit": 2048000,
      "rowLimit": 10000
     },
     "inputWidgets": {},
     "nuid": "6cc0177a-5a7e-4e6d-a058-253204085dbc",
     "showTitle": false,
     "tableResultSettingsMap": {},
     "title": ""
    }
   },
   "outputs": [],
   "source": [
    "-- Daily user summary\n",
    "CREATE OR REFRESH LIVE TABLE daily_user_summary\n",
    "COMMENT \"Daily activity summary per user\"\n",
    "AS SELECT\n",
    "  user_id,\n",
    "  activity_date,\n",
    "  COUNT(DISTINCT device_id) as devices_used,\n",
    "  SUM(num_steps) as total_steps,\n",
    "  SUM(miles_walked) as total_miles,\n",
    "  SUM(calories_burnt) as total_calories,\n",
    "  AVG(num_steps) as avg_steps_per_reading,\n",
    "  MAX(num_steps) as max_steps_in_reading,\n",
    "  -- Daily goal achievement (10,000 steps)\n",
    "  CASE \n",
    "    WHEN SUM(num_steps) >= 10000 THEN 'Goal Achieved'\n",
    "    ELSE 'Below Goal'\n",
    "  END as daily_goal_status\n",
    "FROM LIVE.fitness_devices_silver\n",
    "GROUP BY user_id, activity_date;\n",
    "\n",
    "-- Hourly activity patterns\n",
    "CREATE OR REFRESH LIVE TABLE hourly_activity_patterns\n",
    "COMMENT \"Activity patterns throughout the day\"\n",
    "AS SELECT\n",
    "  activity_hour,\n",
    "  COUNT(DISTINCT user_id) as active_users,\n",
    "  AVG(num_steps) as avg_steps,\n",
    "  AVG(calories_burnt) as avg_calories,\n",
    "  SUM(num_steps) as total_steps,\n",
    "  -- Identify peak hours\n",
    "  CASE\n",
    "    WHEN activity_hour BETWEEN 6 AND 9 THEN 'Morning'\n",
    "    WHEN activity_hour BETWEEN 12 AND 13 THEN 'Lunch'\n",
    "    WHEN activity_hour BETWEEN 17 AND 19 THEN 'Evening'\n",
    "    WHEN activity_hour BETWEEN 20 AND 22 THEN 'Night'\n",
    "    ELSE 'Other'\n",
    "  END as time_period\n",
    "FROM LIVE.fitness_devices_silver\n",
    "GROUP BY activity_hour\n",
    "ORDER BY activity_hour;\n",
    "\n",
    "-- User fitness leaderboard\n",
    "CREATE OR REFRESH LIVE TABLE user_fitness_rankings\n",
    "COMMENT \"Overall user fitness rankings\"\n",
    "AS SELECT\n",
    "  user_id,\n",
    "  COUNT(DISTINCT activity_date) as active_days,\n",
    "  COUNT(DISTINCT device_id) as devices_used,\n",
    "  SUM(num_steps) as lifetime_steps,\n",
    "  SUM(miles_walked) as lifetime_miles,\n",
    "  SUM(calories_burnt) as lifetime_calories,\n",
    "  AVG(num_steps) as avg_daily_steps,\n",
    "  -- Rank users by total steps\n",
    "  RANK() OVER (ORDER BY SUM(num_steps) DESC) as steps_rank,\n",
    "  -- Classify user fitness level\n",
    "  CASE\n",
    "    WHEN AVG(num_steps) >= 10000 THEN 'Highly Active'\n",
    "    WHEN AVG(num_steps) >= 7500 THEN 'Active'\n",
    "    WHEN AVG(num_steps) >= 5000 THEN 'Moderately Active'\n",
    "    ELSE 'Low Activity'\n",
    "  END as fitness_category\n",
    "FROM LIVE.fitness_devices_silver\n",
    "GROUP BY user_id;\n",
    "\n",
    "-- Device reliability analysis\n",
    "CREATE OR REFRESH LIVE TABLE device_performance\n",
    "COMMENT \"Analysis of device reporting patterns\"\n",
    "AS SELECT\n",
    "  device_id,\n",
    "  user_id,\n",
    "  COUNT(*) as total_readings,\n",
    "  COUNT(DISTINCT activity_date) as days_active,\n",
    "  MIN(activity_timestamp) as first_seen,\n",
    "  MAX(activity_timestamp) as last_seen,\n",
    "  -- Calculate average readings per day\n",
    "  COUNT(*) / NULLIF(COUNT(DISTINCT activity_date), 0) as avg_readings_per_day\n",
    "FROM LIVE.fitness_devices_silver\n",
    "GROUP BY device_id, user_id;"
   ]
  }
 ],
 "metadata": {
  "application/vnd.databricks.v1+notebook": {
   "computePreferences": null,
   "dashboards": [],
   "environmentMetadata": {
    "base_environment": "",
    "environment_version": "2"
   },
   "inputWidgetPreferences": null,
   "language": "sql",
   "notebookMetadata": {
    "pythonIndentUnit": 4
   },
   "notebookName": "streaming_dlt_pipeline_SQL_JSON_GZ",
   "widgets": {}
  },
  "language_info": {
   "name": "sql"
  }
 },
 "nbformat": 4,
 "nbformat_minor": 0
}
