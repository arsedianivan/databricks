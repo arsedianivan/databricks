{
 "cells": [
  {
   "cell_type": "code",
   "execution_count": 0,
   "metadata": {
    "application/vnd.databricks.v1+cell": {
     "cellMetadata": {
      "byteLimit": 2048000,
      "rowLimit": 10000
     },
     "inputWidgets": {},
     "nuid": "14b485cb-f12c-4753-90f0-104411333895",
     "showTitle": false,
     "tableResultSettingsMap": {},
     "title": ""
    }
   },
   "outputs": [],
   "source": [
    "-- This creates our first table that reads the raw taxi data\n",
    "CREATE OR REFRESH STREAMING LIVE TABLE dev_1899989130012056.nyctaxi_dlt_sql.taxi_trips_bronze\n",
    "COMMENT \"Raw NYC taxi trip data\"\n",
    "AS SELECT \n",
    "  *,\n",
    "  current_timestamp() as ingestion_time,\n",
    "  _metadata.file_path as source_file\n",
    "FROM cloud_files(\n",
    "  \"/databricks-datasets/nyctaxi/tripdata/yellow/yellow_tripdata_2019-*.csv.gz\",\n",
    "  \"csv\",\n",
    "  map(\n",
    "    \"cloudFiles.inferColumnTypes\", \"true\",\n",
    "    \"header\", \"true\"\n",
    "  )\n",
    ");"
   ]
  },
  {
   "cell_type": "code",
   "execution_count": 0,
   "metadata": {
    "application/vnd.databricks.v1+cell": {
     "cellMetadata": {
      "byteLimit": 2048000,
      "rowLimit": 10000
     },
     "inputWidgets": {},
     "nuid": "5c9a4da5-8c03-421e-95d4-b4007b42fab1",
     "showTitle": false,
     "tableResultSettingsMap": {},
     "title": ""
    }
   },
   "outputs": [],
   "source": [
    "-- This creates a cleaned version of our data\n",
    "CREATE OR REFRESH STREAMING LIVE TABLE dev_1899989130012056.nyctaxi_dlt_sql.taxi_trips_silver\n",
    "(\n",
    "  CONSTRAINT valid_fare EXPECT (fare_amount >= 0) ON VIOLATION DROP ROW,\n",
    "  CONSTRAINT valid_trip_distance EXPECT (trip_distance > 0) ON VIOLATION DROP ROW\n",
    ")\n",
    "COMMENT \"Cleaned taxi trips with data quality rules\"\n",
    "AS SELECT\n",
    "  tpep_pickup_datetime as pickup_time,\n",
    "  tpep_dropoff_datetime as dropoff_time,\n",
    "  passenger_count,\n",
    "  trip_distance,\n",
    "  fare_amount,\n",
    "  tip_amount,\n",
    "  total_amount,\n",
    "  payment_type,\n",
    "  PULocationID,\n",
    "  DOLocationID,\n",
    "  CASE \n",
    "    WHEN payment_type = 1 THEN 'Credit card'\n",
    "    WHEN payment_type = 2 THEN 'Cash'\n",
    "    WHEN payment_type = 3 THEN 'No charge'\n",
    "    WHEN payment_type = 4 THEN 'Dispute'\n",
    "    ELSE 'Unknown'\n",
    "  END as payment_method,\n",
    "  DATE(tpep_pickup_datetime) as trip_date\n",
    "FROM STREAM(LIVE.taxi_trips_bronze)\n",
    "WHERE year(tpep_pickup_datetime) = 2019;"
   ]
  },
  {
   "cell_type": "code",
   "execution_count": 0,
   "metadata": {
    "application/vnd.databricks.v1+cell": {
     "cellMetadata": {
      "byteLimit": 2048000,
      "rowLimit": 10000
     },
     "inputWidgets": {},
     "nuid": "7b881351-7998-449f-9c48-2c3b2918a5fb",
     "showTitle": false,
     "tableResultSettingsMap": {},
     "title": ""
    }
   },
   "outputs": [],
   "source": [
    "-- Daily summary statistics\n",
    "CREATE OR REFRESH LIVE TABLE dev_1899989130012056.nyctaxi_dlt_sql.daily_taxi_summary\n",
    "COMMENT \"Daily aggregated metrics for taxi trips\"\n",
    "AS SELECT\n",
    "  trip_date,\n",
    "  COUNT(*) as total_trips,\n",
    "  SUM(fare_amount) as total_fares,\n",
    "  AVG(trip_distance) as avg_distance,\n",
    "  AVG(tip_amount) as avg_tip,\n",
    "  MAX(tip_amount) as max_tip,\n",
    "  COUNT(DISTINCT payment_method) as payment_methods_used\n",
    "FROM LIVE.taxi_trips_silver\n",
    "GROUP BY trip_date;\n",
    "\n",
    "-- Popular routes analysis\n",
    "CREATE OR REFRESH LIVE TABLE dev_1899989130012056.nyctaxi_dlt_sql.popular_routes\n",
    "COMMENT \"Most popular pickup and dropoff locations\"\n",
    "AS SELECT\n",
    "  PULocationID as pickup_location,\n",
    "  DOLocationID as dropoff_location,\n",
    "  COUNT(*) as trip_count,\n",
    "  AVG(total_amount) as avg_fare,\n",
    "  AVG(trip_distance) as avg_distance\n",
    "FROM LIVE.taxi_trips_silver\n",
    "GROUP BY PULocationID, DOLocationID\n",
    "HAVING COUNT(*) > 100\n",
    "ORDER BY trip_count DESC\n",
    "LIMIT 100;"
   ]
  }
 ],
 "metadata": {
  "application/vnd.databricks.v1+notebook": {
   "computePreferences": null,
   "dashboards": [],
   "environmentMetadata": {
    "base_environment": "",
    "environment_version": "2"
   },
   "inputWidgetPreferences": null,
   "language": "sql",
   "notebookMetadata": {
    "pythonIndentUnit": 4
   },
   "notebookName": "streaming_dlt_pipeline_SQL_CSV_GZ",
   "widgets": {}
  },
  "language_info": {
   "name": "sql"
  }
 },
 "nbformat": 4,
 "nbformat_minor": 0
}
