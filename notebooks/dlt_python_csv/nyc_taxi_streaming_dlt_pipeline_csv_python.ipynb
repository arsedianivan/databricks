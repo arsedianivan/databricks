{
 "cells": [
  {
   "cell_type": "code",
   "execution_count": 0,
   "metadata": {
    "application/vnd.databricks.v1+cell": {
     "cellMetadata": {},
     "inputWidgets": {},
     "nuid": "9f9571d3-91f3-4846-b2ee-4b8bb5da68d0",
     "showTitle": false,
     "tableResultSettingsMap": {},
     "title": ""
    }
   },
   "outputs": [],
   "source": [
    "# Import DLT and PySpark functions\n",
    "import dlt\n",
    "from pyspark.sql.functions import *\n",
    "from pyspark.sql.types import *"
   ]
  },
  {
   "cell_type": "code",
   "execution_count": 0,
   "metadata": {
    "application/vnd.databricks.v1+cell": {
     "cellMetadata": {},
     "inputWidgets": {},
     "nuid": "14516f4b-2ae5-48f6-aa66-71ef3a576972",
     "showTitle": false,
     "tableResultSettingsMap": {},
     "title": ""
    }
   },
   "outputs": [],
   "source": [
    "@dlt.table(\n",
    "    name=\"dev_1899989130012056.nyctaxi_dlt_python.taxi_trips_bronze\",\n",
    "    comment=\"Raw NYC taxi trip data from CSV files\"\n",
    ")\n",
    "def taxi_trips_bronze():\n",
    "    # Read streaming data from CSV files\n",
    "    return (\n",
    "        spark.readStream\n",
    "        .format(\"cloudFiles\")\n",
    "        .option(\"cloudFiles.format\", \"csv\")\n",
    "        .option(\"cloudFiles.inferColumnTypes\", \"true\")\n",
    "        .option(\"header\", \"true\")\n",
    "        .load(\"/databricks-datasets/nyctaxi/tripdata/yellow/yellow_tripdata_2019-*.csv.gz\")\n",
    "        .withColumn(\"ingestion_time\", current_timestamp())\n",
    "        .withColumn(\"source_file\", col(\"_metadata.file_path\"))\n",
    "    )"
   ]
  },
  {
   "cell_type": "code",
   "execution_count": 0,
   "metadata": {
    "application/vnd.databricks.v1+cell": {
     "cellMetadata": {},
     "inputWidgets": {},
     "nuid": "1196be08-6b96-46cf-ac75-47371ecaf314",
     "showTitle": false,
     "tableResultSettingsMap": {},
     "title": ""
    }
   },
   "outputs": [],
   "source": [
    "@dlt.table(\n",
    "    name=\"dev_1899989130012056.nyctaxi_dlt_python.taxi_trips_silver\",\n",
    "    comment=\"Cleaned taxi trips with data quality rules\"\n",
    ")\n",
    "@dlt.expect_or_drop(\"valid_fare\", \"fare_amount >= 0\")\n",
    "@dlt.expect_or_drop(\"valid_trip_distance\", \"trip_distance > 0\")\n",
    "def taxi_trips_silver():\n",
    "    # Read from bronze table and clean the data\n",
    "    df = dlt.readStream(\"taxi_trips_bronze\")\n",
    "    \n",
    "    return (\n",
    "        df.select(\n",
    "            col(\"tpep_pickup_datetime\").alias(\"pickup_time\"),\n",
    "            col(\"tpep_dropoff_datetime\").alias(\"dropoff_time\"),\n",
    "            \"passenger_count\",\n",
    "            \"trip_distance\", \n",
    "            \"fare_amount\",\n",
    "            \"tip_amount\",\n",
    "            \"total_amount\",\n",
    "            \"payment_type\",\n",
    "            when(col(\"payment_type\") == 1, \"Credit card\")\n",
    "            .when(col(\"payment_type\") == 2, \"Cash\")\n",
    "            .when(col(\"payment_type\") == 3, \"No charge\")\n",
    "            .when(col(\"payment_type\") == 4, \"Dispute\")\n",
    "            .otherwise(\"Unknown\").alias(\"payment_method\"),\n",
    "            to_date(\"tpep_pickup_datetime\").alias(\"trip_date\")\n",
    "        )\n",
    "        .filter(year(\"tpep_pickup_datetime\") == 2019)\n",
    "    )"
   ]
  },
  {
   "cell_type": "code",
   "execution_count": 0,
   "metadata": {
    "application/vnd.databricks.v1+cell": {
     "cellMetadata": {},
     "inputWidgets": {},
     "nuid": "40b7a7f8-c941-4b1c-8724-992539096826",
     "showTitle": false,
     "tableResultSettingsMap": {},
     "title": ""
    }
   },
   "outputs": [],
   "source": [
    "# Daily summary statistics\n",
    "@dlt.table(\n",
    "    name=\"dev_1899989130012056.nyctaxi_dlt_python.daily_taxi_summary\",\n",
    "    comment=\"Daily aggregated metrics for taxi trips\"\n",
    ")\n",
    "def daily_taxi_summary():\n",
    "    return (\n",
    "        dlt.read(\"taxi_trips_silver\")\n",
    "        .groupBy(\"trip_date\")\n",
    "        .agg(\n",
    "            count(\"*\").alias(\"total_trips\"),\n",
    "            sum(\"fare_amount\").alias(\"total_fares\"),\n",
    "            avg(\"trip_distance\").alias(\"avg_distance\"),\n",
    "            avg(\"tip_amount\").alias(\"avg_tip\"),\n",
    "            max(\"tip_amount\").alias(\"max_tip\"),\n",
    "            countDistinct(\"payment_method\").alias(\"payment_methods_used\")\n",
    "        )\n",
    "    )\n",
    "\n",
    "# Payment analysis table\n",
    "@dlt.table(\n",
    "    name=\"dev_1899989130012056.nyctaxi_dlt_python.payment_analysis\",\n",
    "    comment=\"Analysis of payment methods and tipping patterns\"\n",
    ")\n",
    "def payment_analysis():\n",
    "    df = dlt.read(\"taxi_trips_silver\")\n",
    "    \n",
    "    # Calculate tip percentage\n",
    "    df_with_tip_pct = df.withColumn(\n",
    "        \"tip_percentage\",\n",
    "        when(col(\"total_amount\") > 0, (col(\"tip_amount\") / col(\"total_amount\") * 100))\n",
    "        .otherwise(0)\n",
    "    )\n",
    "    \n",
    "    return (\n",
    "        df_with_tip_pct\n",
    "        .groupBy(\"payment_method\")\n",
    "        .agg(\n",
    "            count(\"*\").alias(\"trip_count\"),\n",
    "            avg(\"total_amount\").alias(\"avg_total_fare\"),\n",
    "            avg(\"tip_amount\").alias(\"avg_tip\"),\n",
    "            avg(\"tip_percentage\").alias(\"avg_tip_percentage\"),\n",
    "            sum(\"total_amount\").alias(\"total_revenue\")\n",
    "        )\n",
    "    )\n",
    "\n",
    "# Hourly patterns table\n",
    "@dlt.table(\n",
    "    name=\"dev_1899989130012056.nyctaxi_dlt_python.hourly_patterns\",\n",
    "    comment=\"Taxi trip patterns by hour of day\"\n",
    ")\n",
    "def hourly_patterns():\n",
    "    df = dlt.read(\"taxi_trips_silver\")\n",
    "    \n",
    "    return (\n",
    "        df.withColumn(\"pickup_hour\", hour(\"pickup_time\"))\n",
    "        .withColumn(\n",
    "            \"rush_hour_flag\",\n",
    "            when((hour(\"pickup_time\").between(6, 9)) | (hour(\"pickup_time\").between(17, 19)), 1)\n",
    "            .otherwise(0)\n",
    "        )\n",
    "        .groupBy(\"pickup_hour\")\n",
    "        .agg(\n",
    "            count(\"*\").alias(\"trip_count\"),\n",
    "            avg(\"trip_distance\").alias(\"avg_distance\"),\n",
    "            avg(\"total_amount\").alias(\"avg_fare\"),\n",
    "            avg(\"rush_hour_flag\").alias(\"rush_hour_percentage\")\n",
    "        )\n",
    "        .orderBy(\"pickup_hour\")\n",
    "    )"
   ]
  }
 ],
 "metadata": {
  "application/vnd.databricks.v1+notebook": {
   "computePreferences": null,
   "dashboards": [],
   "environmentMetadata": {
    "base_environment": "",
    "environment_version": "2"
   },
   "inputWidgetPreferences": null,
   "language": "python",
   "notebookMetadata": {
    "pythonIndentUnit": 4
   },
   "notebookName": "nyc_taxi_streaming_dlt_pipeline_csv_python",
   "widgets": {}
  },
  "language_info": {
   "name": "python"
  }
 },
 "nbformat": 4,
 "nbformat_minor": 0
}
